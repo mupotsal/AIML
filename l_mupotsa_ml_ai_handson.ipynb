{
  "nbformat": 4,
  "nbformat_minor": 0,
  "metadata": {
    "colab": {
      "provenance": [],
      "authorship_tag": "ABX9TyOdy+inZOrnOOdke+rdLX3B",
      "include_colab_link": true
    },
    "kernelspec": {
      "name": "python3",
      "display_name": "Python 3"
    },
    "language_info": {
      "name": "python"
    }
  },
  "cells": [
    {
      "cell_type": "markdown",
      "metadata": {
        "id": "view-in-github",
        "colab_type": "text"
      },
      "source": [
        "<a href=\"https://colab.research.google.com/github/mupotsal/AIML/blob/main/l_mupotsa_ml_ai_handson.ipynb\" target=\"_parent\"><img src=\"https://colab.research.google.com/assets/colab-badge.svg\" alt=\"Open In Colab\"/></a>"
      ]
    },
    {
      "cell_type": "code",
      "execution_count": 2,
      "metadata": {
        "id": "sFxVUuIulJCV",
        "colab": {
          "base_uri": "https://localhost:8080/"
        },
        "outputId": "28df497d-0363-4034-9b76-c83f9769c60e"
      },
      "outputs": [
        {
          "output_type": "stream",
          "name": "stdout",
          "text": [
            "Check connection done \n"
          ]
        }
      ],
      "source": [
        "print(\"Check connection done \")"
      ]
    }
  ]
}