{
  "nbformat": 4,
  "nbformat_minor": 0,
  "metadata": {
    "colab": {
      "provenance": [],
      "authorship_tag": "ABX9TyNLZf03JvKZuImZHF9epIRn",
      "include_colab_link": true
    },
    "kernelspec": {
      "name": "python3",
      "display_name": "Python 3"
    },
    "language_info": {
      "name": "python"
    }
  },
  "cells": [
    {
      "cell_type": "markdown",
      "metadata": {
        "id": "view-in-github",
        "colab_type": "text"
      },
      "source": [
        "<a href=\"https://colab.research.google.com/github/mupotsal/AIML/blob/main/l_mupotsa_ml_ai_handson.ipynb\" target=\"_parent\"><img src=\"https://colab.research.google.com/assets/colab-badge.svg\" alt=\"Open In Colab\"/></a>"
      ]
    },
    {
      "cell_type": "code",
      "execution_count": 2,
      "metadata": {
        "id": "sFxVUuIulJCV",
        "colab": {
          "base_uri": "https://localhost:8080/"
        },
        "outputId": "80fb58fe-5203-4e3f-bc0e-ed6110075a93"
      },
      "outputs": [
        {
          "output_type": "stream",
          "name": "stdout",
          "text": [
            "Check connection done \n"
          ]
        }
      ],
      "source": [
        "print(\"Check connection done \")\n",
        "\n",
        "# Added some changes\n",
        "# Made another change"
      ]
    }
  ]
}