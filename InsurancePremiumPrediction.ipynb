{
  "nbformat": 4,
  "nbformat_minor": 0,
  "metadata": {
    "colab": {
      "provenance": [],
      "authorship_tag": "ABX9TyP85EkRajkDP0vWTJPv40wa",
      "include_colab_link": true
    },
    "kernelspec": {
      "name": "python3",
      "display_name": "Python 3"
    },
    "language_info": {
      "name": "python"
    }
  },
  "cells": [
    {
      "cell_type": "markdown",
      "metadata": {
        "id": "view-in-github",
        "colab_type": "text"
      },
      "source": [
        "<a href=\"https://colab.research.google.com/github/mupotsal/AIML/blob/main/InsurancePremiumPrediction.ipynb\" target=\"_parent\"><img src=\"https://colab.research.google.com/assets/colab-badge.svg\" alt=\"Open In Colab\"/></a>"
      ]
    },
    {
      "cell_type": "markdown",
      "source": [
        "**Medical Insurance Cost Prediction**\n",
        "\n"
      ],
      "metadata": {
        "id": "dI63OIsL6gPU"
      }
    },
    {
      "cell_type": "markdown",
      "source": [
        "Where to find it: There's a popular and well-documented Medical Cost Personal Datasets on Kaggle.3 It's a perfect fit for this problem, as it includes age, BMI, number of children, smoker status, and region to predict insurance charges.4\n",
        "Link: Medical Cost Personal Datasets on Kaggle"
      ],
      "metadata": {
        "id": "7NohN7nO6nWt"
      }
    },
    {
      "cell_type": "code",
      "source": [],
      "metadata": {
        "id": "6hRfLYpj6h44"
      },
      "execution_count": null,
      "outputs": []
    }
  ]
}